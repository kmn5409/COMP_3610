{
 "cells": [
  {
   "cell_type": "code",
   "execution_count": 1,
   "metadata": {},
   "outputs": [],
   "source": [
    "import pandas as pd\n",
    "from matplotlib import pyplot as plt\n",
    "import seaborn as sns\n",
    "import numpy as np\n",
    "\n",
    "from sklearn.linear_model import LogisticRegression\n",
    "from sklearn.svm import SVC, LinearSVC\n",
    "from sklearn.ensemble import RandomForestClassifier\n",
    "from sklearn.neighbors import KNeighborsClassifier\n",
    "from sklearn.naive_bayes import GaussianNB\n",
    "from sklearn.linear_model import Perceptron\n",
    "from sklearn.linear_model import SGDClassifier\n",
    "from sklearn.tree import DecisionTreeClassifier\n",
    "from sklearn.cluster import KMeans\n",
    "from sklearn.pipeline import Pipeline\n",
    "\n",
    "\n",
    "from sklearn.metrics import confusion_matrix\n",
    "from sklearn.model_selection import train_test_split\n",
    "from sklearn.metrics import accuracy_score\n",
    "from sklearn.decomposition import PCA\n",
    "from sklearn.preprocessing import StandardScaler\n",
    "from sklearn.model_selection import KFold, cross_val_score"
   ]
  },
  {
   "cell_type": "code",
   "execution_count": 2,
   "metadata": {},
   "outputs": [],
   "source": [
    "#Importing the training and test dataset\n",
    "df_train = pd.read_csv('Training.csv', sep=';')\n",
    "df_test = pd.read_csv('Validation.csv', sep=';')"
   ]
  },
  {
   "cell_type": "code",
   "execution_count": 3,
   "metadata": {},
   "outputs": [
    {
     "data": {
      "text/html": [
       "<div>\n",
       "<style scoped>\n",
       "    .dataframe tbody tr th:only-of-type {\n",
       "        vertical-align: middle;\n",
       "    }\n",
       "\n",
       "    .dataframe tbody tr th {\n",
       "        vertical-align: top;\n",
       "    }\n",
       "\n",
       "    .dataframe thead th {\n",
       "        text-align: right;\n",
       "    }\n",
       "</style>\n",
       "<table border=\"1\" class=\"dataframe\">\n",
       "  <thead>\n",
       "    <tr style=\"text-align: right;\">\n",
       "      <th></th>\n",
       "      <th>v33</th>\n",
       "      <th>v76</th>\n",
       "      <th>v12</th>\n",
       "      <th>v68</th>\n",
       "      <th>v50</th>\n",
       "      <th>v7</th>\n",
       "      <th>v70</th>\n",
       "      <th>v55</th>\n",
       "      <th>v20</th>\n",
       "      <th>v24</th>\n",
       "      <th>...</th>\n",
       "      <th>v28</th>\n",
       "      <th>v99</th>\n",
       "      <th>v95</th>\n",
       "      <th>v42</th>\n",
       "      <th>v53</th>\n",
       "      <th>v85</th>\n",
       "      <th>v9</th>\n",
       "      <th>v84</th>\n",
       "      <th>v44</th>\n",
       "      <th>classlabel</th>\n",
       "    </tr>\n",
       "  </thead>\n",
       "  <tbody>\n",
       "    <tr>\n",
       "      <th>0</th>\n",
       "      <td>v</td>\n",
       "      <td>g</td>\n",
       "      <td>17,92</td>\n",
       "      <td>f</td>\n",
       "      <td>1,75</td>\n",
       "      <td>a</td>\n",
       "      <td>t</td>\n",
       "      <td>80.0</td>\n",
       "      <td>0,000054</td>\n",
       "      <td>1</td>\n",
       "      <td>...</td>\n",
       "      <td>t</td>\n",
       "      <td>c</td>\n",
       "      <td>t</td>\n",
       "      <td>800000.0</td>\n",
       "      <td>5</td>\n",
       "      <td>g</td>\n",
       "      <td>0</td>\n",
       "      <td>f</td>\n",
       "      <td>f</td>\n",
       "      <td>no.</td>\n",
       "    </tr>\n",
       "    <tr>\n",
       "      <th>1</th>\n",
       "      <td>v</td>\n",
       "      <td>s</td>\n",
       "      <td>16,92</td>\n",
       "      <td>f</td>\n",
       "      <td>0,29</td>\n",
       "      <td>b</td>\n",
       "      <td>f</td>\n",
       "      <td>200.0</td>\n",
       "      <td>0,0000335</td>\n",
       "      <td>0</td>\n",
       "      <td>...</td>\n",
       "      <td>f</td>\n",
       "      <td>k</td>\n",
       "      <td>NaN</td>\n",
       "      <td>2000000.0</td>\n",
       "      <td>0</td>\n",
       "      <td>p</td>\n",
       "      <td>1</td>\n",
       "      <td>f</td>\n",
       "      <td>f</td>\n",
       "      <td>no.</td>\n",
       "    </tr>\n",
       "    <tr>\n",
       "      <th>2</th>\n",
       "      <td>ff</td>\n",
       "      <td>g</td>\n",
       "      <td>31,25</td>\n",
       "      <td>f</td>\n",
       "      <td>0</td>\n",
       "      <td>b</td>\n",
       "      <td>t</td>\n",
       "      <td>96.0</td>\n",
       "      <td>0,0001125</td>\n",
       "      <td>1</td>\n",
       "      <td>...</td>\n",
       "      <td>f</td>\n",
       "      <td>ff</td>\n",
       "      <td>t</td>\n",
       "      <td>960000.0</td>\n",
       "      <td>19</td>\n",
       "      <td>g</td>\n",
       "      <td>0</td>\n",
       "      <td>f</td>\n",
       "      <td>f</td>\n",
       "      <td>no.</td>\n",
       "    </tr>\n",
       "    <tr>\n",
       "      <th>3</th>\n",
       "      <td>o</td>\n",
       "      <td>g</td>\n",
       "      <td>48,17</td>\n",
       "      <td>f</td>\n",
       "      <td>0,335</td>\n",
       "      <td>a</td>\n",
       "      <td>f</td>\n",
       "      <td>0.0</td>\n",
       "      <td>0,0001335</td>\n",
       "      <td>0</td>\n",
       "      <td>...</td>\n",
       "      <td>f</td>\n",
       "      <td>i</td>\n",
       "      <td>NaN</td>\n",
       "      <td>0.0</td>\n",
       "      <td>120</td>\n",
       "      <td>g</td>\n",
       "      <td>1</td>\n",
       "      <td>f</td>\n",
       "      <td>f</td>\n",
       "      <td>no.</td>\n",
       "    </tr>\n",
       "    <tr>\n",
       "      <th>4</th>\n",
       "      <td>v</td>\n",
       "      <td>g</td>\n",
       "      <td>32,33</td>\n",
       "      <td>t</td>\n",
       "      <td>0,5</td>\n",
       "      <td>b</td>\n",
       "      <td>f</td>\n",
       "      <td>232.0</td>\n",
       "      <td>0,00035</td>\n",
       "      <td>0</td>\n",
       "      <td>...</td>\n",
       "      <td>t</td>\n",
       "      <td>k</td>\n",
       "      <td>f</td>\n",
       "      <td>2320000.0</td>\n",
       "      <td>0</td>\n",
       "      <td>g</td>\n",
       "      <td>1</td>\n",
       "      <td>f</td>\n",
       "      <td>f</td>\n",
       "      <td>no.</td>\n",
       "    </tr>\n",
       "  </tbody>\n",
       "</table>\n",
       "<p>5 rows × 22 columns</p>\n",
       "</div>"
      ],
      "text/plain": [
       "  v33 v76    v12 v68    v50 v7 v70    v55        v20  v24  ... v28 v99  v95  \\\n",
       "0   v   g  17,92   f   1,75  a   t   80.0   0,000054    1  ...   t   c    t   \n",
       "1   v   s  16,92   f   0,29  b   f  200.0  0,0000335    0  ...   f   k  NaN   \n",
       "2  ff   g  31,25   f      0  b   t   96.0  0,0001125    1  ...   f  ff    t   \n",
       "3   o   g  48,17   f  0,335  a   f    0.0  0,0001335    0  ...   f   i  NaN   \n",
       "4   v   g  32,33   t    0,5  b   f  232.0    0,00035    0  ...   t   k    f   \n",
       "\n",
       "         v42  v53  v85  v9 v84  v44 classlabel  \n",
       "0   800000.0    5    g   0   f    f        no.  \n",
       "1  2000000.0    0    p   1   f    f        no.  \n",
       "2   960000.0   19    g   0   f    f        no.  \n",
       "3        0.0  120    g   1   f    f        no.  \n",
       "4  2320000.0    0    g   1   f    f        no.  \n",
       "\n",
       "[5 rows x 22 columns]"
      ]
     },
     "execution_count": 3,
     "metadata": {},
     "output_type": "execute_result"
    }
   ],
   "source": [
    "df_train.head()"
   ]
  },
  {
   "cell_type": "code",
   "execution_count": 4,
   "metadata": {
    "scrolled": true
   },
   "outputs": [
    {
     "data": {
      "text/plain": [
       "v33            object\n",
       "v76            object\n",
       "v12            object\n",
       "v68            object\n",
       "v50            object\n",
       "v7             object\n",
       "v70            object\n",
       "v55           float64\n",
       "v20            object\n",
       "v24             int64\n",
       "v32            object\n",
       "v97            object\n",
       "v28            object\n",
       "v99            object\n",
       "v95            object\n",
       "v42           float64\n",
       "v53             int64\n",
       "v85            object\n",
       "v9              int64\n",
       "v84            object\n",
       "v44            object\n",
       "classlabel     object\n",
       "dtype: object"
      ]
     },
     "execution_count": 4,
     "metadata": {},
     "output_type": "execute_result"
    }
   ],
   "source": [
    "df_train.dtypes"
   ]
  },
  {
   "cell_type": "code",
   "execution_count": 5,
   "metadata": {},
   "outputs": [
    {
     "data": {
      "text/plain": [
       "(3700, 22)"
      ]
     },
     "execution_count": 5,
     "metadata": {},
     "output_type": "execute_result"
    }
   ],
   "source": [
    "df_train.shape"
   ]
  },
  {
   "cell_type": "code",
   "execution_count": 6,
   "metadata": {},
   "outputs": [],
   "source": [
    "columns = df_train.columns\n",
    "for column in columns:\n",
    "    try:\n",
    "        f_val = float(str(df_train[column][0]).replace(',','.'))\n",
    "        if type(f_val) is float:\n",
    "            df_train[column] = df_train[column].apply(lambda x: float(str(x).replace(',','.')))\n",
    "            df_test[column] = df_test[column].apply(lambda x: float(str(x).replace(',','.')))\n",
    "    except Exception as e:\n",
    "        pass"
   ]
  },
  {
   "cell_type": "code",
   "execution_count": 7,
   "metadata": {},
   "outputs": [
    {
     "data": {
      "text/html": [
       "<div>\n",
       "<style scoped>\n",
       "    .dataframe tbody tr th:only-of-type {\n",
       "        vertical-align: middle;\n",
       "    }\n",
       "\n",
       "    .dataframe tbody tr th {\n",
       "        vertical-align: top;\n",
       "    }\n",
       "\n",
       "    .dataframe thead th {\n",
       "        text-align: right;\n",
       "    }\n",
       "</style>\n",
       "<table border=\"1\" class=\"dataframe\">\n",
       "  <thead>\n",
       "    <tr style=\"text-align: right;\">\n",
       "      <th></th>\n",
       "      <th>v33</th>\n",
       "      <th>v76</th>\n",
       "      <th>v12</th>\n",
       "      <th>v68</th>\n",
       "      <th>v50</th>\n",
       "      <th>v7</th>\n",
       "      <th>v70</th>\n",
       "      <th>v55</th>\n",
       "      <th>v20</th>\n",
       "      <th>v24</th>\n",
       "      <th>...</th>\n",
       "      <th>v28</th>\n",
       "      <th>v99</th>\n",
       "      <th>v95</th>\n",
       "      <th>v42</th>\n",
       "      <th>v53</th>\n",
       "      <th>v85</th>\n",
       "      <th>v9</th>\n",
       "      <th>v84</th>\n",
       "      <th>v44</th>\n",
       "      <th>classlabel</th>\n",
       "    </tr>\n",
       "  </thead>\n",
       "  <tbody>\n",
       "    <tr>\n",
       "      <th>0</th>\n",
       "      <td>v</td>\n",
       "      <td>g</td>\n",
       "      <td>17.92</td>\n",
       "      <td>f</td>\n",
       "      <td>1.750</td>\n",
       "      <td>a</td>\n",
       "      <td>t</td>\n",
       "      <td>80.0</td>\n",
       "      <td>0.000054</td>\n",
       "      <td>1.0</td>\n",
       "      <td>...</td>\n",
       "      <td>t</td>\n",
       "      <td>c</td>\n",
       "      <td>t</td>\n",
       "      <td>800000.0</td>\n",
       "      <td>5.0</td>\n",
       "      <td>g</td>\n",
       "      <td>0.0</td>\n",
       "      <td>f</td>\n",
       "      <td>f</td>\n",
       "      <td>no.</td>\n",
       "    </tr>\n",
       "    <tr>\n",
       "      <th>1</th>\n",
       "      <td>v</td>\n",
       "      <td>s</td>\n",
       "      <td>16.92</td>\n",
       "      <td>f</td>\n",
       "      <td>0.290</td>\n",
       "      <td>b</td>\n",
       "      <td>f</td>\n",
       "      <td>200.0</td>\n",
       "      <td>0.000034</td>\n",
       "      <td>0.0</td>\n",
       "      <td>...</td>\n",
       "      <td>f</td>\n",
       "      <td>k</td>\n",
       "      <td>NaN</td>\n",
       "      <td>2000000.0</td>\n",
       "      <td>0.0</td>\n",
       "      <td>p</td>\n",
       "      <td>1.0</td>\n",
       "      <td>f</td>\n",
       "      <td>f</td>\n",
       "      <td>no.</td>\n",
       "    </tr>\n",
       "    <tr>\n",
       "      <th>2</th>\n",
       "      <td>ff</td>\n",
       "      <td>g</td>\n",
       "      <td>31.25</td>\n",
       "      <td>f</td>\n",
       "      <td>0.000</td>\n",
       "      <td>b</td>\n",
       "      <td>t</td>\n",
       "      <td>96.0</td>\n",
       "      <td>0.000112</td>\n",
       "      <td>1.0</td>\n",
       "      <td>...</td>\n",
       "      <td>f</td>\n",
       "      <td>ff</td>\n",
       "      <td>t</td>\n",
       "      <td>960000.0</td>\n",
       "      <td>19.0</td>\n",
       "      <td>g</td>\n",
       "      <td>0.0</td>\n",
       "      <td>f</td>\n",
       "      <td>f</td>\n",
       "      <td>no.</td>\n",
       "    </tr>\n",
       "    <tr>\n",
       "      <th>3</th>\n",
       "      <td>o</td>\n",
       "      <td>g</td>\n",
       "      <td>48.17</td>\n",
       "      <td>f</td>\n",
       "      <td>0.335</td>\n",
       "      <td>a</td>\n",
       "      <td>f</td>\n",
       "      <td>0.0</td>\n",
       "      <td>0.000133</td>\n",
       "      <td>0.0</td>\n",
       "      <td>...</td>\n",
       "      <td>f</td>\n",
       "      <td>i</td>\n",
       "      <td>NaN</td>\n",
       "      <td>0.0</td>\n",
       "      <td>120.0</td>\n",
       "      <td>g</td>\n",
       "      <td>1.0</td>\n",
       "      <td>f</td>\n",
       "      <td>f</td>\n",
       "      <td>no.</td>\n",
       "    </tr>\n",
       "    <tr>\n",
       "      <th>4</th>\n",
       "      <td>v</td>\n",
       "      <td>g</td>\n",
       "      <td>32.33</td>\n",
       "      <td>t</td>\n",
       "      <td>0.500</td>\n",
       "      <td>b</td>\n",
       "      <td>f</td>\n",
       "      <td>232.0</td>\n",
       "      <td>0.000350</td>\n",
       "      <td>0.0</td>\n",
       "      <td>...</td>\n",
       "      <td>t</td>\n",
       "      <td>k</td>\n",
       "      <td>f</td>\n",
       "      <td>2320000.0</td>\n",
       "      <td>0.0</td>\n",
       "      <td>g</td>\n",
       "      <td>1.0</td>\n",
       "      <td>f</td>\n",
       "      <td>f</td>\n",
       "      <td>no.</td>\n",
       "    </tr>\n",
       "  </tbody>\n",
       "</table>\n",
       "<p>5 rows × 22 columns</p>\n",
       "</div>"
      ],
      "text/plain": [
       "  v33 v76    v12 v68    v50 v7 v70    v55       v20  v24  ... v28  v99  v95  \\\n",
       "0   v   g  17.92   f  1.750  a   t   80.0  0.000054  1.0  ...   t    c    t   \n",
       "1   v   s  16.92   f  0.290  b   f  200.0  0.000034  0.0  ...   f    k  NaN   \n",
       "2  ff   g  31.25   f  0.000  b   t   96.0  0.000112  1.0  ...   f   ff    t   \n",
       "3   o   g  48.17   f  0.335  a   f    0.0  0.000133  0.0  ...   f    i  NaN   \n",
       "4   v   g  32.33   t  0.500  b   f  232.0  0.000350  0.0  ...   t    k    f   \n",
       "\n",
       "         v42    v53  v85   v9 v84  v44 classlabel  \n",
       "0   800000.0    5.0    g  0.0   f    f        no.  \n",
       "1  2000000.0    0.0    p  1.0   f    f        no.  \n",
       "2   960000.0   19.0    g  0.0   f    f        no.  \n",
       "3        0.0  120.0    g  1.0   f    f        no.  \n",
       "4  2320000.0    0.0    g  1.0   f    f        no.  \n",
       "\n",
       "[5 rows x 22 columns]"
      ]
     },
     "execution_count": 7,
     "metadata": {},
     "output_type": "execute_result"
    }
   ],
   "source": [
    "df_train.head()"
   ]
  },
  {
   "cell_type": "code",
   "execution_count": 8,
   "metadata": {},
   "outputs": [
    {
     "data": {
      "text/plain": [
       "v33            object\n",
       "v76            object\n",
       "v12           float64\n",
       "v68            object\n",
       "v50           float64\n",
       "v7             object\n",
       "v70            object\n",
       "v55           float64\n",
       "v20           float64\n",
       "v24           float64\n",
       "v32            object\n",
       "v97           float64\n",
       "v28            object\n",
       "v99            object\n",
       "v95            object\n",
       "v42           float64\n",
       "v53           float64\n",
       "v85            object\n",
       "v9            float64\n",
       "v84            object\n",
       "v44            object\n",
       "classlabel     object\n",
       "dtype: object"
      ]
     },
     "execution_count": 8,
     "metadata": {},
     "output_type": "execute_result"
    }
   ],
   "source": [
    "df_train.dtypes"
   ]
  },
  {
   "cell_type": "code",
   "execution_count": 9,
   "metadata": {},
   "outputs": [
    {
     "data": {
      "text/html": [
       "<div>\n",
       "<style scoped>\n",
       "    .dataframe tbody tr th:only-of-type {\n",
       "        vertical-align: middle;\n",
       "    }\n",
       "\n",
       "    .dataframe tbody tr th {\n",
       "        vertical-align: top;\n",
       "    }\n",
       "\n",
       "    .dataframe thead th {\n",
       "        text-align: right;\n",
       "    }\n",
       "</style>\n",
       "<table border=\"1\" class=\"dataframe\">\n",
       "  <thead>\n",
       "    <tr style=\"text-align: right;\">\n",
       "      <th></th>\n",
       "      <th>v12</th>\n",
       "      <th>v50</th>\n",
       "      <th>v55</th>\n",
       "      <th>v20</th>\n",
       "      <th>v24</th>\n",
       "      <th>v97</th>\n",
       "      <th>v42</th>\n",
       "      <th>v53</th>\n",
       "      <th>v9</th>\n",
       "    </tr>\n",
       "  </thead>\n",
       "  <tbody>\n",
       "    <tr>\n",
       "      <th>count</th>\n",
       "      <td>3661.000000</td>\n",
       "      <td>3700.000000</td>\n",
       "      <td>3600.000000</td>\n",
       "      <td>3700.000000</td>\n",
       "      <td>3700.000000</td>\n",
       "      <td>3700.000000</td>\n",
       "      <td>3.600000e+03</td>\n",
       "      <td>3700.000000</td>\n",
       "      <td>3700.000000</td>\n",
       "    </tr>\n",
       "    <tr>\n",
       "      <th>mean</th>\n",
       "      <td>32.820713</td>\n",
       "      <td>3.439496</td>\n",
       "      <td>162.695000</td>\n",
       "      <td>0.000585</td>\n",
       "      <td>4.160000</td>\n",
       "      <td>3.321473</td>\n",
       "      <td>1.626950e+06</td>\n",
       "      <td>2246.705946</td>\n",
       "      <td>0.495676</td>\n",
       "    </tr>\n",
       "    <tr>\n",
       "      <th>std</th>\n",
       "      <td>12.666181</td>\n",
       "      <td>4.335229</td>\n",
       "      <td>156.045682</td>\n",
       "      <td>0.000540</td>\n",
       "      <td>6.750553</td>\n",
       "      <td>1.009448</td>\n",
       "      <td>1.560457e+06</td>\n",
       "      <td>8708.571126</td>\n",
       "      <td>0.500049</td>\n",
       "    </tr>\n",
       "    <tr>\n",
       "      <th>min</th>\n",
       "      <td>13.750000</td>\n",
       "      <td>0.000000</td>\n",
       "      <td>0.000000</td>\n",
       "      <td>0.000000</td>\n",
       "      <td>0.000000</td>\n",
       "      <td>0.000000</td>\n",
       "      <td>0.000000e+00</td>\n",
       "      <td>0.000000</td>\n",
       "      <td>0.000000</td>\n",
       "    </tr>\n",
       "    <tr>\n",
       "      <th>25%</th>\n",
       "      <td>23.000000</td>\n",
       "      <td>0.500000</td>\n",
       "      <td>0.000000</td>\n",
       "      <td>0.000150</td>\n",
       "      <td>0.000000</td>\n",
       "      <td>2.630000</td>\n",
       "      <td>0.000000e+00</td>\n",
       "      <td>0.000000</td>\n",
       "      <td>0.000000</td>\n",
       "    </tr>\n",
       "    <tr>\n",
       "      <th>50%</th>\n",
       "      <td>28.670000</td>\n",
       "      <td>1.750000</td>\n",
       "      <td>120.000000</td>\n",
       "      <td>0.000425</td>\n",
       "      <td>2.000000</td>\n",
       "      <td>3.320000</td>\n",
       "      <td>1.200000e+06</td>\n",
       "      <td>113.000000</td>\n",
       "      <td>0.000000</td>\n",
       "    </tr>\n",
       "    <tr>\n",
       "      <th>75%</th>\n",
       "      <td>40.830000</td>\n",
       "      <td>5.000000</td>\n",
       "      <td>280.000000</td>\n",
       "      <td>0.000963</td>\n",
       "      <td>6.000000</td>\n",
       "      <td>4.000000</td>\n",
       "      <td>2.800000e+06</td>\n",
       "      <td>1059.750000</td>\n",
       "      <td>1.000000</td>\n",
       "    </tr>\n",
       "    <tr>\n",
       "      <th>max</th>\n",
       "      <td>80.250000</td>\n",
       "      <td>28.500000</td>\n",
       "      <td>1160.000000</td>\n",
       "      <td>0.002800</td>\n",
       "      <td>67.000000</td>\n",
       "      <td>6.620000</td>\n",
       "      <td>1.160000e+07</td>\n",
       "      <td>100000.000000</td>\n",
       "      <td>1.000000</td>\n",
       "    </tr>\n",
       "  </tbody>\n",
       "</table>\n",
       "</div>"
      ],
      "text/plain": [
       "               v12          v50          v55          v20          v24  \\\n",
       "count  3661.000000  3700.000000  3600.000000  3700.000000  3700.000000   \n",
       "mean     32.820713     3.439496   162.695000     0.000585     4.160000   \n",
       "std      12.666181     4.335229   156.045682     0.000540     6.750553   \n",
       "min      13.750000     0.000000     0.000000     0.000000     0.000000   \n",
       "25%      23.000000     0.500000     0.000000     0.000150     0.000000   \n",
       "50%      28.670000     1.750000   120.000000     0.000425     2.000000   \n",
       "75%      40.830000     5.000000   280.000000     0.000963     6.000000   \n",
       "max      80.250000    28.500000  1160.000000     0.002800    67.000000   \n",
       "\n",
       "               v97           v42            v53           v9  \n",
       "count  3700.000000  3.600000e+03    3700.000000  3700.000000  \n",
       "mean      3.321473  1.626950e+06    2246.705946     0.495676  \n",
       "std       1.009448  1.560457e+06    8708.571126     0.500049  \n",
       "min       0.000000  0.000000e+00       0.000000     0.000000  \n",
       "25%       2.630000  0.000000e+00       0.000000     0.000000  \n",
       "50%       3.320000  1.200000e+06     113.000000     0.000000  \n",
       "75%       4.000000  2.800000e+06    1059.750000     1.000000  \n",
       "max       6.620000  1.160000e+07  100000.000000     1.000000  "
      ]
     },
     "execution_count": 9,
     "metadata": {},
     "output_type": "execute_result"
    }
   ],
   "source": [
    "df_train.describe()"
   ]
  },
  {
   "cell_type": "code",
   "execution_count": 10,
   "metadata": {},
   "outputs": [],
   "source": [
    "categorical = df_train.dtypes[df_train.dtypes == \"object\"].index"
   ]
  },
  {
   "cell_type": "code",
   "execution_count": 11,
   "metadata": {},
   "outputs": [
    {
     "data": {
      "text/html": [
       "<div>\n",
       "<style scoped>\n",
       "    .dataframe tbody tr th:only-of-type {\n",
       "        vertical-align: middle;\n",
       "    }\n",
       "\n",
       "    .dataframe tbody tr th {\n",
       "        vertical-align: top;\n",
       "    }\n",
       "\n",
       "    .dataframe thead th {\n",
       "        text-align: right;\n",
       "    }\n",
       "</style>\n",
       "<table border=\"1\" class=\"dataframe\">\n",
       "  <thead>\n",
       "    <tr style=\"text-align: right;\">\n",
       "      <th></th>\n",
       "      <th>v33</th>\n",
       "      <th>v76</th>\n",
       "      <th>v68</th>\n",
       "      <th>v7</th>\n",
       "      <th>v70</th>\n",
       "      <th>v32</th>\n",
       "      <th>v28</th>\n",
       "      <th>v99</th>\n",
       "      <th>v95</th>\n",
       "      <th>v85</th>\n",
       "      <th>v84</th>\n",
       "      <th>v44</th>\n",
       "      <th>classlabel</th>\n",
       "    </tr>\n",
       "  </thead>\n",
       "  <tbody>\n",
       "    <tr>\n",
       "      <th>count</th>\n",
       "      <td>3634</td>\n",
       "      <td>3700</td>\n",
       "      <td>3700</td>\n",
       "      <td>3661</td>\n",
       "      <td>3700</td>\n",
       "      <td>3636</td>\n",
       "      <td>3700</td>\n",
       "      <td>3634</td>\n",
       "      <td>1555</td>\n",
       "      <td>3636</td>\n",
       "      <td>3700</td>\n",
       "      <td>3700</td>\n",
       "      <td>3700</td>\n",
       "    </tr>\n",
       "    <tr>\n",
       "      <th>unique</th>\n",
       "      <td>9</td>\n",
       "      <td>3</td>\n",
       "      <td>2</td>\n",
       "      <td>2</td>\n",
       "      <td>2</td>\n",
       "      <td>3</td>\n",
       "      <td>2</td>\n",
       "      <td>14</td>\n",
       "      <td>2</td>\n",
       "      <td>3</td>\n",
       "      <td>2</td>\n",
       "      <td>2</td>\n",
       "      <td>2</td>\n",
       "    </tr>\n",
       "    <tr>\n",
       "      <th>top</th>\n",
       "      <td>v</td>\n",
       "      <td>g</td>\n",
       "      <td>t</td>\n",
       "      <td>b</td>\n",
       "      <td>t</td>\n",
       "      <td>u</td>\n",
       "      <td>f</td>\n",
       "      <td>c</td>\n",
       "      <td>t</td>\n",
       "      <td>g</td>\n",
       "      <td>f</td>\n",
       "      <td>f</td>\n",
       "      <td>yes.</td>\n",
       "    </tr>\n",
       "    <tr>\n",
       "      <th>freq</th>\n",
       "      <td>2015</td>\n",
       "      <td>3430</td>\n",
       "      <td>3423</td>\n",
       "      <td>2382</td>\n",
       "      <td>2239</td>\n",
       "      <td>3055</td>\n",
       "      <td>1924</td>\n",
       "      <td>787</td>\n",
       "      <td>1023</td>\n",
       "      <td>3055</td>\n",
       "      <td>2096</td>\n",
       "      <td>2133</td>\n",
       "      <td>3424</td>\n",
       "    </tr>\n",
       "  </tbody>\n",
       "</table>\n",
       "</div>"
      ],
      "text/plain": [
       "         v33   v76   v68    v7   v70   v32   v28   v99   v95   v85   v84  \\\n",
       "count   3634  3700  3700  3661  3700  3636  3700  3634  1555  3636  3700   \n",
       "unique     9     3     2     2     2     3     2    14     2     3     2   \n",
       "top        v     g     t     b     t     u     f     c     t     g     f   \n",
       "freq    2015  3430  3423  2382  2239  3055  1924   787  1023  3055  2096   \n",
       "\n",
       "         v44 classlabel  \n",
       "count   3700       3700  \n",
       "unique     2          2  \n",
       "top        f       yes.  \n",
       "freq    2133       3424  "
      ]
     },
     "execution_count": 11,
     "metadata": {},
     "output_type": "execute_result"
    }
   ],
   "source": [
    "df_train[categorical].describe()"
   ]
  },
  {
   "cell_type": "code",
   "execution_count": 12,
   "metadata": {},
   "outputs": [
    {
     "name": "stdout",
     "output_type": "stream",
     "text": [
      "     0                 1\n",
      "0  v33    {'length': 66}\n",
      "1  v85    {'length': 64}\n",
      "2   v7    {'length': 39}\n",
      "3  v99    {'length': 66}\n",
      "4  v95  {'length': 2145}\n",
      "     0                1\n",
      "0  v33    {'length': 3}\n",
      "1  v85    {'length': 2}\n",
      "2   v7    {'length': 3}\n",
      "3  v99    {'length': 3}\n",
      "4  v95  {'length': 111}\n"
     ]
    }
   ],
   "source": [
    "train_missing = {}\n",
    "test_missing = {}\n",
    "for c in categorical:\n",
    "    train_m = np.where(df_train[c].isnull() == True)\n",
    "    test_m = np.where(df_test[c].isnull() == True)\n",
    "    if len(train_m[0]) > 0:\n",
    "        train_missing[c] = {'length':len(train_m[0])}\n",
    "    if len(test_m[0]) > 0:\n",
    "        test_missing[c] = {'length':len(test_m[0])}\n",
    "\n",
    "print(pd.DataFrame(train_missing.items()).head())\n",
    "print(pd.DataFrame(test_missing.items()).head())"
   ]
  },
  {
   "cell_type": "code",
   "execution_count": 13,
   "metadata": {},
   "outputs": [],
   "source": [
    "del df_train['v95']\n",
    "del df_test['v95']"
   ]
  },
  {
   "cell_type": "code",
   "execution_count": 14,
   "metadata": {},
   "outputs": [],
   "source": [
    "categorical = df_train.dtypes[df_train.dtypes == \"object\"].index"
   ]
  },
  {
   "cell_type": "code",
   "execution_count": 15,
   "metadata": {},
   "outputs": [
    {
     "name": "stdout",
     "output_type": "stream",
     "text": [
      "dict_keys(['v33', 'v85', 'v99', 'v7', 'v32'])\n",
      "dict_keys(['v33', 'v85', 'v99', 'v7', 'v32'])\n"
     ]
    }
   ],
   "source": [
    "train_missing = {}\n",
    "test_missing = {}\n",
    "for c in categorical:\n",
    "    train_m = np.where(df_train[c].isnull() == True)\n",
    "    test_m = np.where(df_test[c].isnull() == True)\n",
    "    if len(train_m[0]) > 0:\n",
    "        train_missing[c] = {'length':len(train_m[0])}\n",
    "    if len(test_m[0]) > 0:\n",
    "        test_missing[c] = {'length':len(test_m[0])}\n",
    "print(train_missing.keys())\n",
    "print(test_missing.keys())"
   ]
  },
  {
   "cell_type": "code",
   "execution_count": 16,
   "metadata": {},
   "outputs": [
    {
     "data": {
      "text/plain": [
       "g     3055\n",
       "p      549\n",
       "gg      32\n",
       "Name: v85, dtype: int64"
      ]
     },
     "execution_count": 16,
     "metadata": {},
     "output_type": "execute_result"
    }
   ],
   "source": [
    "df_train['v85'].value_counts()"
   ]
  },
  {
   "cell_type": "code",
   "execution_count": 17,
   "metadata": {},
   "outputs": [
    {
     "data": {
      "text/plain": [
       "c     787\n",
       "q     612\n",
       "W     363\n",
       "cc    343\n",
       "x     340\n",
       "aa    210\n",
       "i     191\n",
       "m     179\n",
       "k     170\n",
       "e     137\n",
       "ff    136\n",
       "d      94\n",
       "j      39\n",
       "r      33\n",
       "Name: v99, dtype: int64"
      ]
     },
     "execution_count": 17,
     "metadata": {},
     "output_type": "execute_result"
    }
   ],
   "source": [
    "df_train['v99'].value_counts()"
   ]
  },
  {
   "cell_type": "code",
   "execution_count": 18,
   "metadata": {},
   "outputs": [
    {
     "name": "stdout",
     "output_type": "stream",
     "text": [
      "{'v33': 'v', 'v85': 'g', 'v99': 'c', 'v7': 'b', 'v32': 'u'}\n",
      "{'v33': 'v', 'v85': 'g', 'v99': 'c', 'v7': 'b', 'v32': 'u'}\n"
     ]
    }
   ],
   "source": [
    "mappings_train = {}\n",
    "mappings_test = {}\n",
    "for key in train_missing.keys():\n",
    "    mappings_train[key] = df_train[key].value_counts()._index[0]\n",
    "    mappings_test[key] = df_test[key].value_counts()._index[0]\n",
    "print(mappings_train)\n",
    "print(mappings_test)"
   ]
  },
  {
   "cell_type": "code",
   "execution_count": 19,
   "metadata": {},
   "outputs": [
    {
     "data": {
      "text/plain": [
       "dict_keys([])"
      ]
     },
     "execution_count": 19,
     "metadata": {},
     "output_type": "execute_result"
    }
   ],
   "source": [
    "for k in mappings_train:\n",
    "    df_train[k].fillna(mappings_train[k], inplace=True)\n",
    "    df_test[k].fillna(mappings_train[k], inplace=True)\n",
    "\n",
    "categorical = df_train.dtypes[df_train.dtypes == \"object\"].index\n",
    "num_missing = {}\n",
    "for c in categorical:\n",
    "    missing = np.where(df_train[c].isnull() == True)\n",
    "    if len(missing[0]) > 0:\n",
    "        num_missing[c] = {'length':len(missing[0]), \"missing\":missing}\n",
    "num_missing.keys()"
   ]
  },
  {
   "cell_type": "code",
   "execution_count": 20,
   "metadata": {},
   "outputs": [
    {
     "name": "stdout",
     "output_type": "stream",
     "text": [
      "Index(['v12', 'v55', 'v42'], dtype='object')\n",
      "Index(['v12', 'v55', 'v42'], dtype='object')\n"
     ]
    }
   ],
   "source": [
    "train_any_nan_cols = df_train.columns[df_train.isnull().any()]\n",
    "test_any_nan_cols = df_test.columns[df_test.isnull().any()]\n",
    "print(train_any_nan_cols)\n",
    "print(test_any_nan_cols)"
   ]
  },
  {
   "cell_type": "code",
   "execution_count": 21,
   "metadata": {},
   "outputs": [],
   "source": [
    "for c in train_any_nan_cols:\n",
    "    df_train[c].fillna(df_train[c].mean(), inplace=True)\n",
    "    df_test[c].fillna(df_test[c].mean(), inplace=True)"
   ]
  },
  {
   "cell_type": "code",
   "execution_count": 22,
   "metadata": {},
   "outputs": [
    {
     "name": "stdout",
     "output_type": "stream",
     "text": [
      "Index([], dtype='object')\n",
      "Index([], dtype='object')\n"
     ]
    }
   ],
   "source": [
    "train_any_nan_cols = df_train.columns[df_train.isnull().any()]\n",
    "test_any_nan_cols = df_test.columns[df_test.isnull().any()]\n",
    "print(train_any_nan_cols)\n",
    "print(test_any_nan_cols)"
   ]
  },
  {
   "cell_type": "code",
   "execution_count": 23,
   "metadata": {},
   "outputs": [
    {
     "data": {
      "text/html": [
       "<div>\n",
       "<style scoped>\n",
       "    .dataframe tbody tr th:only-of-type {\n",
       "        vertical-align: middle;\n",
       "    }\n",
       "\n",
       "    .dataframe tbody tr th {\n",
       "        vertical-align: top;\n",
       "    }\n",
       "\n",
       "    .dataframe thead th {\n",
       "        text-align: right;\n",
       "    }\n",
       "</style>\n",
       "<table border=\"1\" class=\"dataframe\">\n",
       "  <thead>\n",
       "    <tr style=\"text-align: right;\">\n",
       "      <th></th>\n",
       "      <th>v33</th>\n",
       "      <th>v76</th>\n",
       "      <th>v12</th>\n",
       "      <th>v68</th>\n",
       "      <th>v50</th>\n",
       "      <th>v7</th>\n",
       "      <th>v70</th>\n",
       "      <th>v55</th>\n",
       "      <th>v20</th>\n",
       "      <th>v24</th>\n",
       "      <th>...</th>\n",
       "      <th>v97</th>\n",
       "      <th>v28</th>\n",
       "      <th>v99</th>\n",
       "      <th>v42</th>\n",
       "      <th>v53</th>\n",
       "      <th>v85</th>\n",
       "      <th>v9</th>\n",
       "      <th>v84</th>\n",
       "      <th>v44</th>\n",
       "      <th>classlabel</th>\n",
       "    </tr>\n",
       "  </thead>\n",
       "  <tbody>\n",
       "    <tr>\n",
       "      <th>0</th>\n",
       "      <td>v</td>\n",
       "      <td>g</td>\n",
       "      <td>17.92</td>\n",
       "      <td>f</td>\n",
       "      <td>1.750</td>\n",
       "      <td>a</td>\n",
       "      <td>t</td>\n",
       "      <td>80.0</td>\n",
       "      <td>0.000054</td>\n",
       "      <td>1.0</td>\n",
       "      <td>...</td>\n",
       "      <td>2.82</td>\n",
       "      <td>t</td>\n",
       "      <td>c</td>\n",
       "      <td>800000.0</td>\n",
       "      <td>5.0</td>\n",
       "      <td>g</td>\n",
       "      <td>0.0</td>\n",
       "      <td>f</td>\n",
       "      <td>f</td>\n",
       "      <td>no.</td>\n",
       "    </tr>\n",
       "    <tr>\n",
       "      <th>1</th>\n",
       "      <td>v</td>\n",
       "      <td>s</td>\n",
       "      <td>16.92</td>\n",
       "      <td>f</td>\n",
       "      <td>0.290</td>\n",
       "      <td>b</td>\n",
       "      <td>f</td>\n",
       "      <td>200.0</td>\n",
       "      <td>0.000034</td>\n",
       "      <td>0.0</td>\n",
       "      <td>...</td>\n",
       "      <td>3.45</td>\n",
       "      <td>f</td>\n",
       "      <td>k</td>\n",
       "      <td>2000000.0</td>\n",
       "      <td>0.0</td>\n",
       "      <td>p</td>\n",
       "      <td>1.0</td>\n",
       "      <td>f</td>\n",
       "      <td>f</td>\n",
       "      <td>no.</td>\n",
       "    </tr>\n",
       "    <tr>\n",
       "      <th>2</th>\n",
       "      <td>ff</td>\n",
       "      <td>g</td>\n",
       "      <td>31.25</td>\n",
       "      <td>f</td>\n",
       "      <td>0.000</td>\n",
       "      <td>b</td>\n",
       "      <td>t</td>\n",
       "      <td>96.0</td>\n",
       "      <td>0.000112</td>\n",
       "      <td>1.0</td>\n",
       "      <td>...</td>\n",
       "      <td>3.24</td>\n",
       "      <td>f</td>\n",
       "      <td>ff</td>\n",
       "      <td>960000.0</td>\n",
       "      <td>19.0</td>\n",
       "      <td>g</td>\n",
       "      <td>0.0</td>\n",
       "      <td>f</td>\n",
       "      <td>f</td>\n",
       "      <td>no.</td>\n",
       "    </tr>\n",
       "    <tr>\n",
       "      <th>3</th>\n",
       "      <td>o</td>\n",
       "      <td>g</td>\n",
       "      <td>48.17</td>\n",
       "      <td>f</td>\n",
       "      <td>0.335</td>\n",
       "      <td>a</td>\n",
       "      <td>f</td>\n",
       "      <td>0.0</td>\n",
       "      <td>0.000133</td>\n",
       "      <td>0.0</td>\n",
       "      <td>...</td>\n",
       "      <td>4.21</td>\n",
       "      <td>f</td>\n",
       "      <td>i</td>\n",
       "      <td>0.0</td>\n",
       "      <td>120.0</td>\n",
       "      <td>g</td>\n",
       "      <td>1.0</td>\n",
       "      <td>f</td>\n",
       "      <td>f</td>\n",
       "      <td>no.</td>\n",
       "    </tr>\n",
       "    <tr>\n",
       "      <th>4</th>\n",
       "      <td>v</td>\n",
       "      <td>g</td>\n",
       "      <td>32.33</td>\n",
       "      <td>t</td>\n",
       "      <td>0.500</td>\n",
       "      <td>b</td>\n",
       "      <td>f</td>\n",
       "      <td>232.0</td>\n",
       "      <td>0.000350</td>\n",
       "      <td>0.0</td>\n",
       "      <td>...</td>\n",
       "      <td>3.44</td>\n",
       "      <td>t</td>\n",
       "      <td>k</td>\n",
       "      <td>2320000.0</td>\n",
       "      <td>0.0</td>\n",
       "      <td>g</td>\n",
       "      <td>1.0</td>\n",
       "      <td>f</td>\n",
       "      <td>f</td>\n",
       "      <td>no.</td>\n",
       "    </tr>\n",
       "  </tbody>\n",
       "</table>\n",
       "<p>5 rows × 21 columns</p>\n",
       "</div>"
      ],
      "text/plain": [
       "  v33 v76    v12 v68    v50 v7 v70    v55       v20  v24  ...   v97  v28 v99  \\\n",
       "0   v   g  17.92   f  1.750  a   t   80.0  0.000054  1.0  ...  2.82    t   c   \n",
       "1   v   s  16.92   f  0.290  b   f  200.0  0.000034  0.0  ...  3.45    f   k   \n",
       "2  ff   g  31.25   f  0.000  b   t   96.0  0.000112  1.0  ...  3.24    f  ff   \n",
       "3   o   g  48.17   f  0.335  a   f    0.0  0.000133  0.0  ...  4.21    f   i   \n",
       "4   v   g  32.33   t  0.500  b   f  232.0  0.000350  0.0  ...  3.44    t   k   \n",
       "\n",
       "         v42    v53  v85   v9  v84 v44 classlabel  \n",
       "0   800000.0    5.0    g  0.0    f   f        no.  \n",
       "1  2000000.0    0.0    p  1.0    f   f        no.  \n",
       "2   960000.0   19.0    g  0.0    f   f        no.  \n",
       "3        0.0  120.0    g  1.0    f   f        no.  \n",
       "4  2320000.0    0.0    g  1.0    f   f        no.  \n",
       "\n",
       "[5 rows x 21 columns]"
      ]
     },
     "execution_count": 23,
     "metadata": {},
     "output_type": "execute_result"
    }
   ],
   "source": [
    "df_train.head()"
   ]
  },
  {
   "cell_type": "code",
   "execution_count": 24,
   "metadata": {},
   "outputs": [
    {
     "data": {
      "text/plain": [
       "Index(['v33', 'v76', 'v68', 'v7', 'v70', 'v32', 'v28', 'v99', 'v85', 'v84',\n",
       "       'v44', 'classlabel'],\n",
       "      dtype='object')"
      ]
     },
     "execution_count": 24,
     "metadata": {},
     "output_type": "execute_result"
    }
   ],
   "source": [
    "categorical = df_train.dtypes[df_train.dtypes == \"object\"].index\n",
    "categorical"
   ]
  },
  {
   "cell_type": "code",
   "execution_count": 25,
   "metadata": {},
   "outputs": [
    {
     "data": {
      "text/html": [
       "<div>\n",
       "<style scoped>\n",
       "    .dataframe tbody tr th:only-of-type {\n",
       "        vertical-align: middle;\n",
       "    }\n",
       "\n",
       "    .dataframe tbody tr th {\n",
       "        vertical-align: top;\n",
       "    }\n",
       "\n",
       "    .dataframe thead th {\n",
       "        text-align: right;\n",
       "    }\n",
       "</style>\n",
       "<table border=\"1\" class=\"dataframe\">\n",
       "  <thead>\n",
       "    <tr style=\"text-align: right;\">\n",
       "      <th></th>\n",
       "      <th>v33</th>\n",
       "      <th>v76</th>\n",
       "      <th>v12</th>\n",
       "      <th>v68</th>\n",
       "      <th>v50</th>\n",
       "      <th>v7</th>\n",
       "      <th>v70</th>\n",
       "      <th>v55</th>\n",
       "      <th>v20</th>\n",
       "      <th>v24</th>\n",
       "      <th>...</th>\n",
       "      <th>v97</th>\n",
       "      <th>v28</th>\n",
       "      <th>v99</th>\n",
       "      <th>v42</th>\n",
       "      <th>v53</th>\n",
       "      <th>v85</th>\n",
       "      <th>v9</th>\n",
       "      <th>v84</th>\n",
       "      <th>v44</th>\n",
       "      <th>classlabel</th>\n",
       "    </tr>\n",
       "  </thead>\n",
       "  <tbody>\n",
       "    <tr>\n",
       "      <th>0</th>\n",
       "      <td>7</td>\n",
       "      <td>0</td>\n",
       "      <td>17.92</td>\n",
       "      <td>0</td>\n",
       "      <td>1.750</td>\n",
       "      <td>0</td>\n",
       "      <td>1</td>\n",
       "      <td>80.0</td>\n",
       "      <td>0.000054</td>\n",
       "      <td>1.0</td>\n",
       "      <td>...</td>\n",
       "      <td>2.82</td>\n",
       "      <td>1</td>\n",
       "      <td>2</td>\n",
       "      <td>800000.0</td>\n",
       "      <td>5.0</td>\n",
       "      <td>0</td>\n",
       "      <td>0.0</td>\n",
       "      <td>0</td>\n",
       "      <td>0</td>\n",
       "      <td>0</td>\n",
       "    </tr>\n",
       "    <tr>\n",
       "      <th>1</th>\n",
       "      <td>7</td>\n",
       "      <td>2</td>\n",
       "      <td>16.92</td>\n",
       "      <td>0</td>\n",
       "      <td>0.290</td>\n",
       "      <td>1</td>\n",
       "      <td>0</td>\n",
       "      <td>200.0</td>\n",
       "      <td>0.000034</td>\n",
       "      <td>0.0</td>\n",
       "      <td>...</td>\n",
       "      <td>3.45</td>\n",
       "      <td>0</td>\n",
       "      <td>9</td>\n",
       "      <td>2000000.0</td>\n",
       "      <td>0.0</td>\n",
       "      <td>2</td>\n",
       "      <td>1.0</td>\n",
       "      <td>0</td>\n",
       "      <td>0</td>\n",
       "      <td>0</td>\n",
       "    </tr>\n",
       "    <tr>\n",
       "      <th>2</th>\n",
       "      <td>2</td>\n",
       "      <td>0</td>\n",
       "      <td>31.25</td>\n",
       "      <td>0</td>\n",
       "      <td>0.000</td>\n",
       "      <td>1</td>\n",
       "      <td>1</td>\n",
       "      <td>96.0</td>\n",
       "      <td>0.000112</td>\n",
       "      <td>1.0</td>\n",
       "      <td>...</td>\n",
       "      <td>3.24</td>\n",
       "      <td>0</td>\n",
       "      <td>6</td>\n",
       "      <td>960000.0</td>\n",
       "      <td>19.0</td>\n",
       "      <td>0</td>\n",
       "      <td>0.0</td>\n",
       "      <td>0</td>\n",
       "      <td>0</td>\n",
       "      <td>0</td>\n",
       "    </tr>\n",
       "    <tr>\n",
       "      <th>3</th>\n",
       "      <td>6</td>\n",
       "      <td>0</td>\n",
       "      <td>48.17</td>\n",
       "      <td>0</td>\n",
       "      <td>0.335</td>\n",
       "      <td>0</td>\n",
       "      <td>0</td>\n",
       "      <td>0.0</td>\n",
       "      <td>0.000133</td>\n",
       "      <td>0.0</td>\n",
       "      <td>...</td>\n",
       "      <td>4.21</td>\n",
       "      <td>0</td>\n",
       "      <td>7</td>\n",
       "      <td>0.0</td>\n",
       "      <td>120.0</td>\n",
       "      <td>0</td>\n",
       "      <td>1.0</td>\n",
       "      <td>0</td>\n",
       "      <td>0</td>\n",
       "      <td>0</td>\n",
       "    </tr>\n",
       "    <tr>\n",
       "      <th>4</th>\n",
       "      <td>7</td>\n",
       "      <td>0</td>\n",
       "      <td>32.33</td>\n",
       "      <td>1</td>\n",
       "      <td>0.500</td>\n",
       "      <td>1</td>\n",
       "      <td>0</td>\n",
       "      <td>232.0</td>\n",
       "      <td>0.000350</td>\n",
       "      <td>0.0</td>\n",
       "      <td>...</td>\n",
       "      <td>3.44</td>\n",
       "      <td>1</td>\n",
       "      <td>9</td>\n",
       "      <td>2320000.0</td>\n",
       "      <td>0.0</td>\n",
       "      <td>0</td>\n",
       "      <td>1.0</td>\n",
       "      <td>0</td>\n",
       "      <td>0</td>\n",
       "      <td>0</td>\n",
       "    </tr>\n",
       "  </tbody>\n",
       "</table>\n",
       "<p>5 rows × 21 columns</p>\n",
       "</div>"
      ],
      "text/plain": [
       "   v33  v76    v12  v68    v50  v7  v70    v55       v20  v24  ...   v97  v28  \\\n",
       "0    7    0  17.92    0  1.750   0    1   80.0  0.000054  1.0  ...  2.82    1   \n",
       "1    7    2  16.92    0  0.290   1    0  200.0  0.000034  0.0  ...  3.45    0   \n",
       "2    2    0  31.25    0  0.000   1    1   96.0  0.000112  1.0  ...  3.24    0   \n",
       "3    6    0  48.17    0  0.335   0    0    0.0  0.000133  0.0  ...  4.21    0   \n",
       "4    7    0  32.33    1  0.500   1    0  232.0  0.000350  0.0  ...  3.44    1   \n",
       "\n",
       "   v99        v42    v53  v85   v9  v84  v44  classlabel  \n",
       "0    2   800000.0    5.0    0  0.0    0    0           0  \n",
       "1    9  2000000.0    0.0    2  1.0    0    0           0  \n",
       "2    6   960000.0   19.0    0  0.0    0    0           0  \n",
       "3    7        0.0  120.0    0  1.0    0    0           0  \n",
       "4    9  2320000.0    0.0    0  1.0    0    0           0  \n",
       "\n",
       "[5 rows x 21 columns]"
      ]
     },
     "execution_count": 25,
     "metadata": {},
     "output_type": "execute_result"
    }
   ],
   "source": [
    "df_train_cpy = df_train.copy()\n",
    "df_test_cpy = df_test.copy()\n",
    "for c in categorical:\n",
    "    df_train_cpy[c] = df_train_cpy[c].astype('category')\n",
    "    df_test_cpy[c] = df_test_cpy[c].astype('category')\n",
    "    df_train_cpy[c] = df_train_cpy[c].cat.codes\n",
    "    df_test_cpy[c] = df_test_cpy[c].cat.codes\n",
    "df_train_cpy.head()"
   ]
  },
  {
   "cell_type": "code",
   "execution_count": 26,
   "metadata": {},
   "outputs": [
    {
     "data": {
      "text/html": [
       "<div>\n",
       "<style scoped>\n",
       "    .dataframe tbody tr th:only-of-type {\n",
       "        vertical-align: middle;\n",
       "    }\n",
       "\n",
       "    .dataframe tbody tr th {\n",
       "        vertical-align: top;\n",
       "    }\n",
       "\n",
       "    .dataframe thead th {\n",
       "        text-align: right;\n",
       "    }\n",
       "</style>\n",
       "<table border=\"1\" class=\"dataframe\">\n",
       "  <thead>\n",
       "    <tr style=\"text-align: right;\">\n",
       "      <th></th>\n",
       "      <th>v33</th>\n",
       "      <th>v76</th>\n",
       "      <th>v12</th>\n",
       "      <th>v68</th>\n",
       "      <th>v50</th>\n",
       "      <th>v7</th>\n",
       "      <th>v70</th>\n",
       "      <th>v55</th>\n",
       "      <th>v20</th>\n",
       "      <th>v24</th>\n",
       "      <th>...</th>\n",
       "      <th>v97</th>\n",
       "      <th>v28</th>\n",
       "      <th>v99</th>\n",
       "      <th>v42</th>\n",
       "      <th>v53</th>\n",
       "      <th>v85</th>\n",
       "      <th>v9</th>\n",
       "      <th>v84</th>\n",
       "      <th>v44</th>\n",
       "      <th>classlabel</th>\n",
       "    </tr>\n",
       "  </thead>\n",
       "  <tbody>\n",
       "    <tr>\n",
       "      <th>0</th>\n",
       "      <td>0</td>\n",
       "      <td>2</td>\n",
       "      <td>32.33</td>\n",
       "      <td>1</td>\n",
       "      <td>1.585</td>\n",
       "      <td>1</td>\n",
       "      <td>0</td>\n",
       "      <td>420.0</td>\n",
       "      <td>0.000750</td>\n",
       "      <td>0.0</td>\n",
       "      <td>...</td>\n",
       "      <td>4.33</td>\n",
       "      <td>1</td>\n",
       "      <td>5</td>\n",
       "      <td>4200000.0</td>\n",
       "      <td>0.0</td>\n",
       "      <td>0</td>\n",
       "      <td>1.0</td>\n",
       "      <td>0</td>\n",
       "      <td>1</td>\n",
       "      <td>0</td>\n",
       "    </tr>\n",
       "    <tr>\n",
       "      <th>1</th>\n",
       "      <td>6</td>\n",
       "      <td>0</td>\n",
       "      <td>23.58</td>\n",
       "      <td>0</td>\n",
       "      <td>0.540</td>\n",
       "      <td>1</td>\n",
       "      <td>0</td>\n",
       "      <td>136.0</td>\n",
       "      <td>0.000179</td>\n",
       "      <td>0.0</td>\n",
       "      <td>...</td>\n",
       "      <td>4.37</td>\n",
       "      <td>1</td>\n",
       "      <td>2</td>\n",
       "      <td>1360000.0</td>\n",
       "      <td>1.0</td>\n",
       "      <td>0</td>\n",
       "      <td>0.0</td>\n",
       "      <td>0</td>\n",
       "      <td>0</td>\n",
       "      <td>0</td>\n",
       "    </tr>\n",
       "    <tr>\n",
       "      <th>2</th>\n",
       "      <td>6</td>\n",
       "      <td>0</td>\n",
       "      <td>36.42</td>\n",
       "      <td>1</td>\n",
       "      <td>0.585</td>\n",
       "      <td>1</td>\n",
       "      <td>0</td>\n",
       "      <td>240.0</td>\n",
       "      <td>0.000075</td>\n",
       "      <td>0.0</td>\n",
       "      <td>...</td>\n",
       "      <td>3.79</td>\n",
       "      <td>0</td>\n",
       "      <td>4</td>\n",
       "      <td>2400000.0</td>\n",
       "      <td>3.0</td>\n",
       "      <td>1</td>\n",
       "      <td>1.0</td>\n",
       "      <td>0</td>\n",
       "      <td>0</td>\n",
       "      <td>0</td>\n",
       "    </tr>\n",
       "    <tr>\n",
       "      <th>3</th>\n",
       "      <td>6</td>\n",
       "      <td>0</td>\n",
       "      <td>18.42</td>\n",
       "      <td>0</td>\n",
       "      <td>0.125</td>\n",
       "      <td>1</td>\n",
       "      <td>0</td>\n",
       "      <td>120.0</td>\n",
       "      <td>0.001042</td>\n",
       "      <td>0.0</td>\n",
       "      <td>...</td>\n",
       "      <td>3.61</td>\n",
       "      <td>0</td>\n",
       "      <td>1</td>\n",
       "      <td>1200000.0</td>\n",
       "      <td>375.0</td>\n",
       "      <td>1</td>\n",
       "      <td>0.0</td>\n",
       "      <td>1</td>\n",
       "      <td>0</td>\n",
       "      <td>0</td>\n",
       "    </tr>\n",
       "    <tr>\n",
       "      <th>4</th>\n",
       "      <td>6</td>\n",
       "      <td>0</td>\n",
       "      <td>24.50</td>\n",
       "      <td>1</td>\n",
       "      <td>0.040</td>\n",
       "      <td>1</td>\n",
       "      <td>0</td>\n",
       "      <td>120.0</td>\n",
       "      <td>0.001334</td>\n",
       "      <td>0.0</td>\n",
       "      <td>...</td>\n",
       "      <td>3.68</td>\n",
       "      <td>1</td>\n",
       "      <td>1</td>\n",
       "      <td>1200000.0</td>\n",
       "      <td>475.0</td>\n",
       "      <td>1</td>\n",
       "      <td>0.0</td>\n",
       "      <td>0</td>\n",
       "      <td>0</td>\n",
       "      <td>0</td>\n",
       "    </tr>\n",
       "  </tbody>\n",
       "</table>\n",
       "<p>5 rows × 21 columns</p>\n",
       "</div>"
      ],
      "text/plain": [
       "   v33  v76    v12  v68    v50  v7  v70    v55       v20  v24  ...   v97  v28  \\\n",
       "0    0    2  32.33    1  1.585   1    0  420.0  0.000750  0.0  ...  4.33    1   \n",
       "1    6    0  23.58    0  0.540   1    0  136.0  0.000179  0.0  ...  4.37    1   \n",
       "2    6    0  36.42    1  0.585   1    0  240.0  0.000075  0.0  ...  3.79    0   \n",
       "3    6    0  18.42    0  0.125   1    0  120.0  0.001042  0.0  ...  3.61    0   \n",
       "4    6    0  24.50    1  0.040   1    0  120.0  0.001334  0.0  ...  3.68    1   \n",
       "\n",
       "   v99        v42    v53  v85   v9  v84  v44  classlabel  \n",
       "0    5  4200000.0    0.0    0  1.0    0    1           0  \n",
       "1    2  1360000.0    1.0    0  0.0    0    0           0  \n",
       "2    4  2400000.0    3.0    1  1.0    0    0           0  \n",
       "3    1  1200000.0  375.0    1  0.0    1    0           0  \n",
       "4    1  1200000.0  475.0    1  0.0    0    0           0  \n",
       "\n",
       "[5 rows x 21 columns]"
      ]
     },
     "execution_count": 26,
     "metadata": {},
     "output_type": "execute_result"
    }
   ],
   "source": [
    "df_test_cpy.head()"
   ]
  },
  {
   "cell_type": "markdown",
   "metadata": {},
   "source": [
    "### Applying dataset to classification algorithms"
   ]
  },
  {
   "cell_type": "code",
   "execution_count": 27,
   "metadata": {},
   "outputs": [
    {
     "data": {
      "text/plain": [
       "((3700, 20), (3700,), (200, 20), (200,))"
      ]
     },
     "execution_count": 27,
     "metadata": {},
     "output_type": "execute_result"
    }
   ],
   "source": [
    "X_train = df_train_cpy.drop(\"classlabel\", axis=1)\n",
    "Y_train = df_train_cpy[\"classlabel\"]\n",
    "X_test  = df_test_cpy.drop(\"classlabel\", axis=1)\n",
    "Y_test = df_test_cpy[\"classlabel\"]\n",
    "X_train.shape, Y_train.shape, X_test.shape, Y_test.shape"
   ]
  },
  {
   "cell_type": "code",
   "execution_count": 28,
   "metadata": {},
   "outputs": [
    {
     "name": "stderr",
     "output_type": "stream",
     "text": [
      "/usr/local/lib/python3.5/dist-packages/sklearn/linear_model/logistic.py:432: FutureWarning: Default solver will be changed to 'lbfgs' in 0.22. Specify a solver to silence this warning.\n",
      "  FutureWarning)\n"
     ]
    },
    {
     "data": {
      "text/plain": [
       "46.5"
      ]
     },
     "execution_count": 28,
     "metadata": {},
     "output_type": "execute_result"
    }
   ],
   "source": [
    "# Logistic Regression\n",
    "\n",
    "logreg = LogisticRegression()\n",
    "logreg.fit(X_train, Y_train)\n",
    "Y_pred = logreg.predict(X_test)\n",
    "acc_log = round(accuracy_score(Y_test,Y_pred) * 100, 2)\n",
    "acc_log"
   ]
  },
  {
   "cell_type": "code",
   "execution_count": 29,
   "metadata": {},
   "outputs": [
    {
     "name": "stderr",
     "output_type": "stream",
     "text": [
      "/usr/local/lib/python3.5/dist-packages/sklearn/svm/base.py:193: FutureWarning: The default value of gamma will change from 'auto' to 'scale' in version 0.22 to account better for unscaled features. Set gamma explicitly to 'auto' or 'scale' to avoid this warning.\n",
      "  \"avoid this warning.\", FutureWarning)\n"
     ]
    },
    {
     "data": {
      "text/plain": [
       "59.0"
      ]
     },
     "execution_count": 29,
     "metadata": {},
     "output_type": "execute_result"
    }
   ],
   "source": [
    "# Support Vector Machines\n",
    "\n",
    "svc = SVC()\n",
    "svc.fit(X_train, Y_train)\n",
    "Y_pred = svc.predict(X_test)\n",
    "acc_svc = round(accuracy_score(Y_test,Y_pred) * 100, 2)\n",
    "acc_svc"
   ]
  },
  {
   "cell_type": "code",
   "execution_count": 30,
   "metadata": {},
   "outputs": [
    {
     "data": {
      "text/plain": [
       "64.5"
      ]
     },
     "execution_count": 30,
     "metadata": {},
     "output_type": "execute_result"
    }
   ],
   "source": [
    "# K Nearest Neighbors\n",
    "\n",
    "knn = KNeighborsClassifier(n_neighbors = 3)\n",
    "knn.fit(X_train, Y_train)\n",
    "Y_pred = knn.predict(X_test)\n",
    "acc_knn = round(accuracy_score(Y_test,Y_pred) * 100, 2)\n",
    "acc_knn"
   ]
  },
  {
   "cell_type": "code",
   "execution_count": 31,
   "metadata": {},
   "outputs": [
    {
     "data": {
      "text/plain": [
       "69.0"
      ]
     },
     "execution_count": 31,
     "metadata": {},
     "output_type": "execute_result"
    }
   ],
   "source": [
    "# Gaussian Naive Bayes\n",
    "\n",
    "gaussian = GaussianNB()\n",
    "gaussian.fit(X_train, Y_train)\n",
    "Y_pred = gaussian.predict(X_test)\n",
    "acc_gaussian = round(accuracy_score(Y_test,Y_pred) * 100, 2)\n",
    "acc_gaussian"
   ]
  },
  {
   "cell_type": "code",
   "execution_count": 32,
   "metadata": {},
   "outputs": [
    {
     "data": {
      "text/plain": [
       "47.0"
      ]
     },
     "execution_count": 32,
     "metadata": {},
     "output_type": "execute_result"
    }
   ],
   "source": [
    "# Perceptron\n",
    "\n",
    "perceptron = Perceptron()\n",
    "perceptron.fit(X_train, Y_train)\n",
    "Y_pred = perceptron.predict(X_test)\n",
    "acc_perceptron = round(accuracy_score(Y_test,Y_pred) * 100, 2)\n",
    "acc_perceptron"
   ]
  },
  {
   "cell_type": "code",
   "execution_count": 33,
   "metadata": {},
   "outputs": [
    {
     "name": "stderr",
     "output_type": "stream",
     "text": [
      "/usr/local/lib/python3.5/dist-packages/sklearn/svm/base.py:929: ConvergenceWarning: Liblinear failed to converge, increase the number of iterations.\n",
      "  \"the number of iterations.\", ConvergenceWarning)\n"
     ]
    },
    {
     "data": {
      "text/plain": [
       "49.0"
      ]
     },
     "execution_count": 33,
     "metadata": {},
     "output_type": "execute_result"
    }
   ],
   "source": [
    "# Linear SVC\n",
    "\n",
    "linear_svc = LinearSVC()\n",
    "linear_svc.fit(X_train, Y_train)\n",
    "Y_pred = linear_svc.predict(X_test)\n",
    "acc_linear_svc = round(accuracy_score(Y_test,Y_pred) * 100, 2)\n",
    "acc_linear_svc"
   ]
  },
  {
   "cell_type": "code",
   "execution_count": 34,
   "metadata": {},
   "outputs": [
    {
     "data": {
      "text/plain": [
       "47.0"
      ]
     },
     "execution_count": 34,
     "metadata": {},
     "output_type": "execute_result"
    }
   ],
   "source": [
    "# Stochastic Gradient Descent\n",
    "\n",
    "sgd = SGDClassifier()\n",
    "sgd.fit(X_train, Y_train)\n",
    "Y_pred = sgd.predict(X_test)\n",
    "acc_sgd = round(accuracy_score(Y_test,Y_pred) * 100, 2)\n",
    "acc_sgd"
   ]
  },
  {
   "cell_type": "code",
   "execution_count": 35,
   "metadata": {},
   "outputs": [
    {
     "data": {
      "text/plain": [
       "49.0"
      ]
     },
     "execution_count": 35,
     "metadata": {},
     "output_type": "execute_result"
    }
   ],
   "source": [
    "# Decision Tree\n",
    "\n",
    "decision_tree = DecisionTreeClassifier()\n",
    "decision_tree.fit(X_train, Y_train)\n",
    "Y_pred = decision_tree.predict(X_test)\n",
    "acc_decision_tree = round(accuracy_score(Y_test,Y_pred) * 100, 2)\n",
    "acc_decision_tree"
   ]
  },
  {
   "cell_type": "code",
   "execution_count": 36,
   "metadata": {},
   "outputs": [
    {
     "data": {
      "text/plain": [
       "49.5"
      ]
     },
     "execution_count": 36,
     "metadata": {},
     "output_type": "execute_result"
    }
   ],
   "source": [
    "# Random Forest\n",
    "\n",
    "random_forest = RandomForestClassifier(n_estimators=100)\n",
    "random_forest.fit(X_train, Y_train)\n",
    "Y_pred = random_forest.predict(X_test)\n",
    "random_forest.score(X_train, Y_train)\n",
    "acc_random_forest = round(accuracy_score(Y_test,Y_pred) * 100, 2)\n",
    "acc_random_forest"
   ]
  },
  {
   "cell_type": "code",
   "execution_count": 37,
   "metadata": {},
   "outputs": [
    {
     "data": {
      "text/html": [
       "<div>\n",
       "<style scoped>\n",
       "    .dataframe tbody tr th:only-of-type {\n",
       "        vertical-align: middle;\n",
       "    }\n",
       "\n",
       "    .dataframe tbody tr th {\n",
       "        vertical-align: top;\n",
       "    }\n",
       "\n",
       "    .dataframe thead th {\n",
       "        text-align: right;\n",
       "    }\n",
       "</style>\n",
       "<table border=\"1\" class=\"dataframe\">\n",
       "  <thead>\n",
       "    <tr style=\"text-align: right;\">\n",
       "      <th></th>\n",
       "      <th>Model</th>\n",
       "      <th>Score</th>\n",
       "    </tr>\n",
       "  </thead>\n",
       "  <tbody>\n",
       "    <tr>\n",
       "      <th>4</th>\n",
       "      <td>Naive Bayes</td>\n",
       "      <td>69.0</td>\n",
       "    </tr>\n",
       "    <tr>\n",
       "      <th>1</th>\n",
       "      <td>KNN</td>\n",
       "      <td>64.5</td>\n",
       "    </tr>\n",
       "    <tr>\n",
       "      <th>0</th>\n",
       "      <td>Support Vector Machines</td>\n",
       "      <td>59.0</td>\n",
       "    </tr>\n",
       "    <tr>\n",
       "      <th>3</th>\n",
       "      <td>Random Forest</td>\n",
       "      <td>49.5</td>\n",
       "    </tr>\n",
       "    <tr>\n",
       "      <th>7</th>\n",
       "      <td>Linear SVC</td>\n",
       "      <td>49.0</td>\n",
       "    </tr>\n",
       "    <tr>\n",
       "      <th>8</th>\n",
       "      <td>Decision Tree</td>\n",
       "      <td>49.0</td>\n",
       "    </tr>\n",
       "    <tr>\n",
       "      <th>5</th>\n",
       "      <td>Perceptron</td>\n",
       "      <td>47.0</td>\n",
       "    </tr>\n",
       "    <tr>\n",
       "      <th>6</th>\n",
       "      <td>Stochastic Gradient Decent</td>\n",
       "      <td>47.0</td>\n",
       "    </tr>\n",
       "    <tr>\n",
       "      <th>2</th>\n",
       "      <td>Logistic Regression</td>\n",
       "      <td>46.5</td>\n",
       "    </tr>\n",
       "  </tbody>\n",
       "</table>\n",
       "</div>"
      ],
      "text/plain": [
       "                        Model  Score\n",
       "4                 Naive Bayes   69.0\n",
       "1                         KNN   64.5\n",
       "0     Support Vector Machines   59.0\n",
       "3               Random Forest   49.5\n",
       "7                  Linear SVC   49.0\n",
       "8               Decision Tree   49.0\n",
       "5                  Perceptron   47.0\n",
       "6  Stochastic Gradient Decent   47.0\n",
       "2         Logistic Regression   46.5"
      ]
     },
     "execution_count": 37,
     "metadata": {},
     "output_type": "execute_result"
    }
   ],
   "source": [
    "models = pd.DataFrame({\n",
    "    'Model': ['Support Vector Machines', 'KNN', 'Logistic Regression', \n",
    "              'Random Forest', 'Naive Bayes', 'Perceptron', \n",
    "              'Stochastic Gradient Decent', 'Linear SVC', \n",
    "              'Decision Tree'],\n",
    "    'Score': [acc_svc, acc_knn, acc_log, \n",
    "              acc_random_forest, acc_gaussian, acc_perceptron, \n",
    "              acc_sgd, acc_linear_svc, acc_decision_tree]})\n",
    "models.sort_values(by='Score', ascending=False)"
   ]
  },
  {
   "cell_type": "code",
   "execution_count": 38,
   "metadata": {},
   "outputs": [
    {
     "data": {
      "image/png": "[encoded data removed]",
      "text/plain": [
       "<Figure size 432x288 with 1 Axes>"
      ]
     },
     "metadata": {
      "needs_background": "light"
     },
     "output_type": "display_data"
    }
   ],
   "source": [
    "sns.barplot(x='Score', y='Model', data=models)\n",
    "plt.show()"
   ]
  },
  {
   "cell_type": "code",
   "execution_count": 39,
   "metadata": {},
   "outputs": [],
   "source": [
    "scaler = StandardScaler()\n",
    "\n",
    "scaler.fit(X_train)\n",
    "\n",
    "X_train = scaler.transform(X_train)\n",
    "\n",
    "pca = PCA(0.95)\n",
    "\n",
    "pca.fit(X_train)\n",
    "\n",
    "pca.n_components_\n",
    "\n",
    "X_train = pca.transform(X_train)\n",
    "\n",
    "X_train = pd.DataFrame(X_train)"
   ]
  },
  {
   "cell_type": "code",
   "execution_count": 40,
   "metadata": {},
   "outputs": [],
   "source": [
    "scaler = StandardScaler()\n",
    "\n",
    "scaler.fit(X_test)\n",
    "\n",
    "X_test = scaler.transform(X_test)\n",
    "\n",
    "pca = PCA(0.95)\n",
    "\n",
    "pca.fit(X_test)\n",
    "\n",
    "pca.n_components_\n",
    "\n",
    "X_test = pca.transform(X_test)\n",
    "\n",
    "X_test= pd.DataFrame(X_test)"
   ]
  },
  {
   "cell_type": "code",
   "execution_count": 41,
   "metadata": {},
   "outputs": [
    {
     "data": {
      "text/plain": [
       "48.5"
      ]
     },
     "execution_count": 41,
     "metadata": {},
     "output_type": "execute_result"
    }
   ],
   "source": [
    "knn = KNeighborsClassifier(n_neighbors = 3)\n",
    "knn.fit(X_train, Y_train)\n",
    "Y_pred = knn.predict(X_test)\n",
    "acc_knn = round(accuracy_score(Y_test,Y_pred) * 100, 2)\n",
    "acc_knn"
   ]
  },
  {
   "cell_type": "code",
   "execution_count": 42,
   "metadata": {},
   "outputs": [
    {
     "data": {
      "text/plain": [
       "49.0"
      ]
     },
     "execution_count": 42,
     "metadata": {},
     "output_type": "execute_result"
    }
   ],
   "source": [
    "# Decision Tree\n",
    "\n",
    "decision_tree = DecisionTreeClassifier()\n",
    "decision_tree.fit(X_train, Y_train)\n",
    "Y_pred = decision_tree.predict(X_test)\n",
    "acc_decision_tree = round(accuracy_score(Y_test,Y_pred) * 100, 2)\n",
    "acc_decision_tree"
   ]
  },
  {
   "cell_type": "code",
   "execution_count": 43,
   "metadata": {},
   "outputs": [
    {
     "data": {
      "text/plain": [
       "48.5"
      ]
     },
     "execution_count": 43,
     "metadata": {},
     "output_type": "execute_result"
    }
   ],
   "source": [
    "# Random Forest\n",
    "\n",
    "random_forest = RandomForestClassifier(n_estimators=100)\n",
    "random_forest.fit(X_train, Y_train)\n",
    "Y_pred = random_forest.predict(X_test)\n",
    "acc_random_forest = round(accuracy_score(Y_test,Y_pred) * 100, 2)\n",
    "acc_random_forest"
   ]
  },
  {
   "cell_type": "code",
   "execution_count": 44,
   "metadata": {},
   "outputs": [],
   "source": [
    "# creating odd list of K for KNN\n",
    "neighbors = filter(lambda x: x % 2 != 0, list(range(1,50)))\n",
    "# empty list that will hold cv scores\n",
    "cv_scores = {}\n",
    "\n",
    "# perform 10-fold cross validation\n",
    "for k in neighbors:\n",
    "    knn = KNeighborsClassifier(n_neighbors=k)\n",
    "    scores = cross_val_score(knn, X_train, Y_train, cv=10, scoring='accuracy')\n",
    "    cv_scores[k] = scores.mean()"
   ]
  },
  {
   "cell_type": "code",
   "execution_count": 45,
   "metadata": {},
   "outputs": [
    {
     "data": {
      "text/plain": [
       "3"
      ]
     },
     "execution_count": 45,
     "metadata": {},
     "output_type": "execute_result"
    }
   ],
   "source": [
    "bess_k = max(cv_scores, key=lambda k: cv_scores[k])\n",
    "bess_k"
   ]
  },
  {
   "cell_type": "code",
   "execution_count": 46,
   "metadata": {},
   "outputs": [
    {
     "data": {
      "text/plain": [
       "48.5"
      ]
     },
     "execution_count": 46,
     "metadata": {},
     "output_type": "execute_result"
    }
   ],
   "source": [
    "# instantiate learning model (k = 3)\n",
    "knn = KNeighborsClassifier(n_neighbors=bess_k)\n",
    "\n",
    "# fitting the model\n",
    "knn.fit(X_train, Y_train)\n",
    "\n",
    "# predict the response\n",
    "pred = knn.predict(X_test)\n",
    "\n",
    "# evaluate accuracy\n",
    "acc_knn = round(accuracy_score(Y_test,Y_pred) * 100, 2)\n",
    "acc_knn"
   ]
  },
  {
   "cell_type": "code",
   "execution_count": 47,
   "metadata": {},
   "outputs": [
    {
     "data": {
      "text/plain": [
       "((3700, 20), (3700,), (200, 20), (200,))"
      ]
     },
     "execution_count": 47,
     "metadata": {},
     "output_type": "execute_result"
    }
   ],
   "source": [
    "X_train = df_train_cpy.drop(\"classlabel\", axis=1)\n",
    "Y_train = df_train_cpy[\"classlabel\"]\n",
    "X_test  = df_test_cpy.drop(\"classlabel\", axis=1)\n",
    "Y_test = df_test_cpy[\"classlabel\"]\n",
    "X_train.shape, Y_train.shape, X_test.shape, Y_test.shape"
   ]
  },
  {
   "cell_type": "code",
   "execution_count": 48,
   "metadata": {},
   "outputs": [],
   "source": [
    "clfs = []\n",
    "clfs.append(LogisticRegression())\n",
    "clfs.append(SVC())\n",
    "clfs.append(KNeighborsClassifier(n_neighbors=3))\n",
    "clfs.append(GaussianNB())\n",
    "clfs.append(Perceptron())\n",
    "clfs.append(LinearSVC())\n",
    "clfs.append(SGDClassifier())\n",
    "clfs.append(DecisionTreeClassifier())\n",
    "clfs.append(RandomForestClassifier(n_estimators=100))"
   ]
  },
  {
   "cell_type": "code",
   "execution_count": 49,
   "metadata": {},
   "outputs": [
    {
     "name": "stderr",
     "output_type": "stream",
     "text": [
      "/usr/local/lib/python3.5/dist-packages/sklearn/linear_model/logistic.py:432: FutureWarning: Default solver will be changed to 'lbfgs' in 0.22. Specify a solver to silence this warning.\n",
      "  FutureWarning)\n",
      "/usr/local/lib/python3.5/dist-packages/sklearn/svm/base.py:193: FutureWarning: The default value of gamma will change from 'auto' to 'scale' in version 0.22 to account better for unscaled features. Set gamma explicitly to 'auto' or 'scale' to avoid this warning.\n",
      "  \"avoid this warning.\", FutureWarning)\n"
     ]
    },
    {
     "name": "stdout",
     "output_type": "stream",
     "text": [
      "---------------------------------\n",
      "LogisticRegression 46.5\n",
      "---------------------------------\n",
      "SVC 59.0\n",
      "---------------------------------\n",
      "KNeighborsClassifier 64.5\n",
      "---------------------------------\n",
      "GaussianNB 69.0\n",
      "---------------------------------\n",
      "Perceptron 47.0\n"
     ]
    },
    {
     "name": "stderr",
     "output_type": "stream",
     "text": [
      "/usr/local/lib/python3.5/dist-packages/sklearn/svm/base.py:929: ConvergenceWarning: Liblinear failed to converge, increase the number of iterations.\n",
      "  \"the number of iterations.\", ConvergenceWarning)\n"
     ]
    },
    {
     "name": "stdout",
     "output_type": "stream",
     "text": [
      "---------------------------------\n",
      "LinearSVC 45.5\n",
      "---------------------------------\n",
      "SGDClassifier 46.5\n",
      "---------------------------------\n",
      "DecisionTreeClassifier 51.0\n",
      "---------------------------------\n",
      "RandomForestClassifier 51.0\n"
     ]
    }
   ],
   "source": [
    "names=[]\n",
    "scores=[]\n",
    "for classifier in clfs:\n",
    "    classifier.fit(X_train, Y_train)\n",
    "    Y_pred = classifier.predict(X_test)\n",
    "    acc = round(accuracy_score(Y_test,Y_pred) * 100, 2)\n",
    "    name = str(classifier).split('(')[0]\n",
    "    print('---------------------------------')\n",
    "    print(name, acc)\n",
    "    names.append(name)\n",
    "    scores.append(acc)"
   ]
  },
  {
   "cell_type": "code",
   "execution_count": 50,
   "metadata": {},
   "outputs": [
    {
     "data": {
      "image/png": "[encoded data removed]",
      "text/plain": [
       "<Figure size 1080x720 with 1 Axes>"
      ]
     },
     "metadata": {
      "needs_background": "light"
     },
     "output_type": "display_data"
    }
   ],
   "source": [
    "plt.figure(figsize=(15,10))\n",
    "plt.bar(names, scores)\n",
    "plt.xticks(rotation=-45)\n",
    "plt.ylim(40, 70)\n",
    "plt.show()"
   ]
  },
  {
   "cell_type": "code",
   "execution_count": 51,
   "metadata": {},
   "outputs": [
    {
     "data": {
      "text/plain": [
       "[('normalizer', StandardScaler(copy=True, with_mean=True, with_std=True)),\n",
       " ('clf',\n",
       "  LogisticRegression(C=1.0, class_weight=None, dual=False, fit_intercept=True,\n",
       "                     intercept_scaling=1, l1_ratio=None, max_iter=100,\n",
       "                     multi_class='warn', n_jobs=None, penalty='l2',\n",
       "                     random_state=None, solver='warn', tol=0.0001, verbose=0,\n",
       "                     warm_start=False))]"
      ]
     },
     "execution_count": 51,
     "metadata": {},
     "output_type": "execute_result"
    }
   ],
   "source": [
    "pipeline = Pipeline([\n",
    "    ('normalizer', StandardScaler()), #Step1 - normalize data\n",
    "    ('clf', LogisticRegression()) #step2 - classifier\n",
    "])\n",
    "pipeline.steps"
   ]
  },
  {
   "cell_type": "code",
   "execution_count": 52,
   "metadata": {},
   "outputs": [
    {
     "name": "stderr",
     "output_type": "stream",
     "text": [
      "/usr/local/lib/python3.5/dist-packages/sklearn/model_selection/_split.py:1978: FutureWarning: The default value of cv will change from 3 to 5 in version 0.22. Specify it explicitly to silence this warning.\n",
      "  warnings.warn(CV_WARNING, FutureWarning)\n",
      "/usr/local/lib/python3.5/dist-packages/sklearn/linear_model/logistic.py:432: FutureWarning: Default solver will be changed to 'lbfgs' in 0.22. Specify a solver to silence this warning.\n",
      "  FutureWarning)\n",
      "/usr/local/lib/python3.5/dist-packages/sklearn/linear_model/logistic.py:432: FutureWarning: Default solver will be changed to 'lbfgs' in 0.22. Specify a solver to silence this warning.\n",
      "  FutureWarning)\n",
      "/usr/local/lib/python3.5/dist-packages/sklearn/linear_model/logistic.py:432: FutureWarning: Default solver will be changed to 'lbfgs' in 0.22. Specify a solver to silence this warning.\n",
      "  FutureWarning)\n"
     ]
    },
    {
     "data": {
      "text/plain": [
       "array([0.99837925, 0.99756691, 0.99837794])"
      ]
     },
     "execution_count": 52,
     "metadata": {},
     "output_type": "execute_result"
    }
   ],
   "source": [
    "scores = cross_val_score(pipeline, X_train, Y_train)\n",
    "scores"
   ]
  },
  {
   "cell_type": "code",
   "execution_count": 53,
   "metadata": {},
   "outputs": [
    {
     "name": "stderr",
     "output_type": "stream",
     "text": [
      "/usr/local/lib/python3.5/dist-packages/sklearn/model_selection/_split.py:1978: FutureWarning: The default value of cv will change from 3 to 5 in version 0.22. Specify it explicitly to silence this warning.\n",
      "  warnings.warn(CV_WARNING, FutureWarning)\n",
      "/usr/local/lib/python3.5/dist-packages/sklearn/linear_model/logistic.py:432: FutureWarning: Default solver will be changed to 'lbfgs' in 0.22. Specify a solver to silence this warning.\n",
      "  FutureWarning)\n",
      "/usr/local/lib/python3.5/dist-packages/sklearn/linear_model/logistic.py:432: FutureWarning: Default solver will be changed to 'lbfgs' in 0.22. Specify a solver to silence this warning.\n",
      "  FutureWarning)\n",
      "/usr/local/lib/python3.5/dist-packages/sklearn/linear_model/logistic.py:432: FutureWarning: Default solver will be changed to 'lbfgs' in 0.22. Specify a solver to silence this warning.\n",
      "  FutureWarning)\n",
      "/usr/local/lib/python3.5/dist-packages/sklearn/model_selection/_split.py:1978: FutureWarning: The default value of cv will change from 3 to 5 in version 0.22. Specify it explicitly to silence this warning.\n",
      "  warnings.warn(CV_WARNING, FutureWarning)\n"
     ]
    },
    {
     "name": "stdout",
     "output_type": "stream",
     "text": [
      "---------------------------------\n",
      "LogisticRegression 0.9981080348054996\n",
      "---------------------------------\n",
      "SVC 0.9975680053700615\n"
     ]
    },
    {
     "name": "stderr",
     "output_type": "stream",
     "text": [
      "/usr/local/lib/python3.5/dist-packages/sklearn/model_selection/_split.py:1978: FutureWarning: The default value of cv will change from 3 to 5 in version 0.22. Specify it explicitly to silence this warning.\n",
      "  warnings.warn(CV_WARNING, FutureWarning)\n"
     ]
    },
    {
     "name": "stdout",
     "output_type": "stream",
     "text": [
      "---------------------------------\n",
      "KNeighborsClassifier 0.9983785972204148\n",
      "---------------------------------\n",
      "GaussianNB 0.9983783781415364\n"
     ]
    },
    {
     "name": "stderr",
     "output_type": "stream",
     "text": [
      "/usr/local/lib/python3.5/dist-packages/sklearn/model_selection/_split.py:1978: FutureWarning: The default value of cv will change from 3 to 5 in version 0.22. Specify it explicitly to silence this warning.\n",
      "  warnings.warn(CV_WARNING, FutureWarning)\n",
      "/usr/local/lib/python3.5/dist-packages/sklearn/model_selection/_split.py:1978: FutureWarning: The default value of cv will change from 3 to 5 in version 0.22. Specify it explicitly to silence this warning.\n",
      "  warnings.warn(CV_WARNING, FutureWarning)\n"
     ]
    },
    {
     "name": "stdout",
     "output_type": "stream",
     "text": [
      "---------------------------------\n",
      "Perceptron 0.9972972238762677\n"
     ]
    },
    {
     "name": "stderr",
     "output_type": "stream",
     "text": [
      "/usr/local/lib/python3.5/dist-packages/sklearn/model_selection/_split.py:1978: FutureWarning: The default value of cv will change from 3 to 5 in version 0.22. Specify it explicitly to silence this warning.\n",
      "  warnings.warn(CV_WARNING, FutureWarning)\n",
      "/usr/local/lib/python3.5/dist-packages/sklearn/svm/base.py:929: ConvergenceWarning: Liblinear failed to converge, increase the number of iterations.\n",
      "  \"the number of iterations.\", ConvergenceWarning)\n",
      "/usr/local/lib/python3.5/dist-packages/sklearn/model_selection/_split.py:1978: FutureWarning: The default value of cv will change from 3 to 5 in version 0.22. Specify it explicitly to silence this warning.\n",
      "  warnings.warn(CV_WARNING, FutureWarning)\n",
      "/usr/local/lib/python3.5/dist-packages/sklearn/model_selection/_split.py:1978: FutureWarning: The default value of cv will change from 3 to 5 in version 0.22. Specify it explicitly to silence this warning.\n",
      "  warnings.warn(CV_WARNING, FutureWarning)\n"
     ]
    },
    {
     "name": "stdout",
     "output_type": "stream",
     "text": [
      "---------------------------------\n",
      "LinearSVC 0.9981082538843781\n",
      "---------------------------------\n",
      "SGDClassifier 0.9967569753619512\n",
      "---------------------------------\n",
      "DecisionTreeClassifier 0.9962160696109992\n"
     ]
    },
    {
     "name": "stderr",
     "output_type": "stream",
     "text": [
      "/usr/local/lib/python3.5/dist-packages/sklearn/model_selection/_split.py:1978: FutureWarning: The default value of cv will change from 3 to 5 in version 0.22. Specify it explicitly to silence this warning.\n",
      "  warnings.warn(CV_WARNING, FutureWarning)\n"
     ]
    },
    {
     "name": "stdout",
     "output_type": "stream",
     "text": [
      "---------------------------------\n",
      "RandomForestClassifier 0.9978379105483413\n"
     ]
    }
   ],
   "source": [
    "names=[]\n",
    "scores=[]\n",
    "for classifier in clfs:\n",
    "    pipeline.set_params(clf = classifier)\n",
    "    score = cross_val_score(pipeline, X_train, Y_train).mean()\n",
    "    name = str(classifier).split('(')[0]\n",
    "    print('---------------------------------')\n",
    "    print(name, score)\n",
    "    names.append(name)\n",
    "    scores.append(score)"
   ]
  },
  {
   "cell_type": "code",
   "execution_count": 54,
   "metadata": {},
   "outputs": [
    {
     "data": {
      "image/png": "[encoded data removed]",
      "text/plain": [
       "<Figure size 1080x720 with 1 Axes>"
      ]
     },
     "metadata": {
      "needs_background": "light"
     },
     "output_type": "display_data"
    }
   ],
   "source": [
    "plt.figure(figsize=(15,10))\n",
    "plt.bar(names, scores)\n",
    "plt.xticks(rotation=-45)\n",
    "plt.ylim(0.95, 1.0)\n",
    "plt.show()"
   ]
  },
  {
   "cell_type": "code",
   "execution_count": null,
   "metadata": {
    "collapsed": true
   },
   "outputs": [],
   "source": []
  }
 ],
 "metadata": {
  "kernelspec": {
   "display_name": "Python 3",
   "language": "python",
   "name": "python3"
  },
  "language_info": {
   "codemirror_mode": {
    "name": "ipython",
    "version": 3
   },
   "file_extension": ".py",
   "mimetype": "text/x-python",
   "name": "python",
   "nbconvert_exporter": "python",
   "pygments_lexer": "ipython3",
   "version": "3.5.2"
  }
 },
 "nbformat": 4,
 "nbformat_minor": 2
}
